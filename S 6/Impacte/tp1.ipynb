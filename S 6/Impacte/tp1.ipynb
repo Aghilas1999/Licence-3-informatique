{
 "cells": [
  {
   "cell_type": "markdown",
   "metadata": {},
   "source": [
    "# TP1: Introduction à l'analyse de cycle de vie des équipements numériques\n",
    "\n",
    "Dans ce premier TD/TP le but est de se familiariser avec les impacts environnementaux du numérique, **étudies du point de vue des équipements seulement**. L'objectif est triple:\n",
    "\n",
    "- Déterminer et comprendre les ordres de grandeur de la consommation énergétique dans la **phase d'usage** des appareils.\n",
    "\n",
    "- Obtenir des informations sur la **phase de production** des équipements pour compléter le bilan carbone d'un appareil informatique.\n",
    "\n",
    "- Enfin, avoir une **démarche critique** sur les chiffres obtenus et considérer les incertitudes possibles dans les mesures réalisées."
   ]
  },
  {
   "cell_type": "markdown",
   "metadata": {},
   "source": [
    "# A. Consommation énergétique en phase d'usage"
   ]
  },
  {
   "cell_type": "markdown",
   "metadata": {},
   "source": [
    "L'intérêt de ces premières questions est que vous obteniez des données de consommation énergétique pour des appareils variés, par exemple un ordinateur portable, un ordinateur fixe, un smartphone en charge (liste non exhaustive). De plus vous verrez probablement qu'il existe aussi une grande diversité des sources, ce qui pose la question de la variabilité/reproductibilité des mesures."
   ]
  },
  {
   "cell_type": "markdown",
   "metadata": {},
   "source": [
    "## Question 1"
   ]
  },
  {
   "cell_type": "markdown",
   "metadata": {},
   "source": [
    "Pour commencer utilisez les **wattmètres** fournis par le département Informatique et Interactions pour avoir une illustration parlante de ce que consomme un ordinateur portable, un ordinateur fixe, un smartphone en charge. Plus précisément, vous chercherez à obtenir **la puissance en Watts** et varierez les conditions d'utilisation lorsque cela est possible (mode inactif, calcul intensif, utilisation de la 3D etc).\n",
    "- Un moyen simple de faire du calcul intensif est d'utiliser la commande unix `stress -c 1 -t 30` qui fait travailler un coeur au maximum pendant 30 secondes. \n",
    "- Vous essaierez aussi dans la mesure du possible d'avoir une évaluation de l'incertitude sur la mesure"
   ]
  },
  {
   "cell_type": "markdown",
   "metadata": {},
   "source": [
    "## Représentation des données"
   ]
  },
  {
   "cell_type": "markdown",
   "metadata": {},
   "source": [
    "On propose de représenter les données sous le format décrit ci_après. "
   ]
  },
  {
   "cell_type": "code",
   "execution_count": 7,
   "metadata": {},
   "outputs": [],
   "source": [
    "# Exemple de représentation des données\n",
    "# - power_devices est un dictionnaire dont les clefs sont les noms génériques des appareils étudiés\n",
    "#   par exemple \"laptop\", \"workstation\", \"mobile\" etc et les valeurs sont des dictionnaires dont les éléments \n",
    "#   décrivent différents modèles d'appareil.\n",
    "# \n",
    "# - dans cet exemple, tested_toasters est un dictionnaire. Chaque clef indique un modèle de grille pain et \n",
    "#  la valeur est une liste. Chaque élément de la liste est elle-même une liste avec \n",
    "#   1) l'activité de l'appareil (marche, veille, calcul intensif), \n",
    "#   2) la valeur mesurée, \n",
    "#   3) l'incertitude en +/- sur la valeur \n",
    "#   4) l'unité de mesure \n",
    "#   5) la source de la mesure\n",
    "\n",
    "tested_toasters = {\"Le grille pain de Mamie\" : \n",
    "                    [[\"on\",1000,10,\"W\",\"wattmetre\"],\n",
    "                    [\"standby\",3,1,\"W\",\"wattmetre\"]] ,\n",
    "                 \"H.Koenig TOS7\" : \n",
    "                    [[\"on\",850,None,\"W\",\"https://www.super-marmite.com/petit-dejeuner/grille-pain/\"]] } \n",
    "                \n",
    "power_devices = {\"toaster\" : tested_toasters }\n"
   ]
  },
  {
   "cell_type": "markdown",
   "metadata": {},
   "source": [
    "**Il est important que vous respectiez ce format** pour que nous puissions faire quelques statistiques sur toutes les informations que vous aurez collectés. Ainsi avec l'exemple, si on veut calculer la moyenne des puissances moyennes d'un grille pain en marche, on pourra procéder ainsi"
   ]
  },
  {
   "cell_type": "code",
   "execution_count": 5,
   "metadata": {},
   "outputs": [
    {
     "name": "stdout",
     "output_type": "stream",
     "text": [
      "Puissance moyenne des grilles pains étudiés = 925.0 W\n"
     ]
    }
   ],
   "source": [
    "power = 0.0\n",
    "nbr_models = 0\n",
    "device = \"toaster\"\n",
    "activity = \"on\"\n",
    "\n",
    "for model in power_devices[device].keys():\n",
    "    for model_activity in power_devices[device][model]:\n",
    "        if model_activity[0] == activity:\n",
    "            power += model_activity[1]\n",
    "            nbr_models +=1\n",
    "\n",
    "print(\"Puissance moyenne des grilles pains étudiés = \" + str(power/nbr_models) + \" W\")"
   ]
  },
  {
   "cell_type": "markdown",
   "metadata": {},
   "source": [
    "## Question 2"
   ]
  },
  {
   "cell_type": "markdown",
   "metadata": {},
   "source": [
    "Exécutez les blocs d'instruction suivants en utilisant le bouton $\\blacktriangleright$ Run et affichez le dictionnaire `power_devices` dans une nouvelle cellule que vous créerez. \n",
    "Exécutez le bloc d'instruction ci-après, vérifiez qu'un fichier .json a bien été créé au même endroit que le fichier .ipynb. Enfin affichez le fichier test_data_toaster.json dans un navigateur.\n"
   ]
  },
  {
   "cell_type": "code",
   "execution_count": 31,
   "metadata": {},
   "outputs": [
    {
     "data": {
      "text/plain": [
       "{'toaster': {'Le grille pain de Mamie': [['on', 1000, 10, 'W', 'wattmetre'],\n",
       "   ['standby', 3, 1, 'W', 'wattmetre']],\n",
       "  'H.Koenig TOS7': [['on',\n",
       "    850,\n",
       "    None,\n",
       "    'W',\n",
       "    'https://www.super-marmite.com/petit-dejeuner/grille-pain/']]}}"
      ]
     },
     "execution_count": 31,
     "metadata": {},
     "output_type": "execute_result"
    }
   ],
   "source": [
    "power_devices"
   ]
  },
  {
   "cell_type": "code",
   "execution_count": 98,
   "metadata": {},
   "outputs": [
    {
     "name": "stdout",
     "output_type": "stream",
     "text": [
      "{'toaster': {'Le grille pain de Mamie': [['on', 1000, 10, 'W', 'wattmetre'], ['standby', 3, 1, 'W', 'wattmetre']], 'H.Koenig TOS7': [['on', 850, None, 'W', 'https://www.super-marmite.com/petit-dejeuner/grille-pain/']]}}\n"
     ]
    }
   ],
   "source": [
    "# Sauvegarde de l'expérience\n",
    "#import json\n",
    "\n",
    "#with open('test_data_toaster.json', 'w') as fp:\n",
    "#    json.dump(power_devices, fp)\n",
    "\n",
    "import json\n",
    "\n",
    "with open('tested_toasters.json') as mon_fichier:\n",
    "    data = json.load(mon_fichier)\n",
    "\n",
    "print(data)"
   ]
  },
  {
   "cell_type": "markdown",
   "metadata": {},
   "source": [
    "## Question 3"
   ]
  },
  {
   "cell_type": "markdown",
   "metadata": {},
   "source": [
    "Compte tenu du nombre réduit de wattmètres, vous ne pourrez pas faire toustes ces mesures en même temps. La plupart d'entre vous iront donc chercher en parallèle des **informations sur le web** et vous alternerez sur les wattmètres. Vous êtes libres d'aller chercher de l'information où vous voulez mais il est important:\n",
    "- de citer vos sources (typiquement via le format de représentation des données)\n",
    "- d'avoir une idée sur le sérieux des sources citées. C'est un peu plus difficile mais vous pourrez déjà établir si la source provient d'une publication scientifique, si c'est une information de seconde main sans la source d'origine etc"
   ]
  },
  {
   "cell_type": "markdown",
   "metadata": {},
   "source": [
    "## Question 4"
   ]
  },
  {
   "cell_type": "markdown",
   "metadata": {},
   "source": [
    "Cherchez aussi des informations sur la consommation de **datacenters** ou de **supercalculateurs** (voir par exemple le classement top500/green5000 ou le site du mésocentre de AMU). \n",
    "<!--- On peut esquisser un lien avec la communauté IA qui commence à reporter la consommation énergétique de la phase d'entrainement dans les modèles de DL. --->"
   ]
  },
  {
   "cell_type": "code",
   "execution_count": 106,
   "metadata": {},
   "outputs": [],
   "source": [
    "# Les estimations de la consommation annuelle d’électricité des centres de données varient \n",
    "# de 200 térawattheures (TWh) en 2018 à 500 TWh en 2020. Le chiffre le plus bas suggérerait \n",
    "# que les centres de données consomment 1  de l’électricité. "
   ]
  },
  {
   "cell_type": "markdown",
   "metadata": {},
   "source": [
    "## Question 5"
   ]
  },
  {
   "cell_type": "markdown",
   "metadata": {},
   "source": [
    "Dans tout ce qui précède, vous avez obtenus des mesures de puissance (Watts) ou d'énergie (Joules ou kiloWatt heures). \n",
    "Il convient désormais d'**uniformiser vos résultats** et de ne garder qu'une seule unité qui sera la **consommation énergétique sur une année, en kiloWatt heures**.\n",
    "\n",
    "Si vous n'avez que la puissance d'un appareil, vous pourrez faire des hypothèses sur son usage pour obtenir **la consommation annuelle d'énergie**.\n",
    "\n",
    "Dans tous les cas, il conviendra d'automatiser le plus possible vos calculs, en utilisant par exemple des boucles ou  en nommant correctement les constantes utiles (par exemple `kW_in_W = 1000` ou encore `J_in_Wh = 1/3600` pour respectivement les Kilowatts en Watts et les Joules en Kilowattsheures)"
   ]
  },
  {
   "cell_type": "markdown",
   "metadata": {},
   "source": [
    "## Question 6"
   ]
  },
  {
   "cell_type": "markdown",
   "metadata": {},
   "source": [
    "Sauvegardez vos résultats dans un fichier `anual_energy_consumption_nom_prenom.json`"
   ]
  },
  {
   "cell_type": "markdown",
   "metadata": {},
   "source": [
    "# B. Phase de production"
   ]
  },
  {
   "cell_type": "markdown",
   "metadata": {},
   "source": [
    "Si on se contente de considérer la consommation énergétique du numérique en phase d'usage on passe à côté de nombreux impacts à commencer par l'énergie qui a servi à toute la phase de production des appareils. En général cette énergie est associée à la quantité de **gaz à effet de serre** équivalente, en kg équivalent CO2 (kgCO2e)"
   ]
  },
  {
   "cell_type": "markdown",
   "metadata": {},
   "source": [
    "## Question 7"
   ]
  },
  {
   "cell_type": "markdown",
   "metadata": {},
   "source": [
    "Recherchez des informations sur la fabrication de **vos propres appareils personnels**. \n",
    "\n",
    "Vous pourrez explorer la base de données de l'ADEME, après avoir créé un compte sur [https://www.bilans-ges.ademe.fr/fr/inscription/inscription](https://www.bilans-ges.ademe.fr/fr/inscription/inscription). \n",
    "\n",
    "Vous pourrez aussi aller chercher  des informations plus spécifiques sur les sites des constructeurs (comme pour DELL via [https://corporate.delltechnologies.com/en-us/social-impact/advancing-sustainability/sustainable-products-and-services/product-carbon-footprints.htm#tab0=0](https://corporate.delltechnologies.com/en-us/social-impact/advancing-sustainability/sustainable-products-and-services/product-carbon-footprints.htm#tab0=0) )\n"
   ]
  },
  {
   "cell_type": "markdown",
   "metadata": {},
   "source": [
    "## Question 8"
   ]
  },
  {
   "cell_type": "markdown",
   "metadata": {},
   "source": [
    "Sauvegardez vos résultats dans un fichier `devices_production_nom_prenom.json`"
   ]
  },
  {
   "cell_type": "code",
   "execution_count": null,
   "metadata": {},
   "outputs": [],
   "source": [
    "with open('devices_production_lefevre_julien.json', 'w') as fp:\n",
    "    json.dump(devices_production, fp)"
   ]
  },
  {
   "cell_type": "markdown",
   "metadata": {},
   "source": [
    "# C. Bilan carbone simplifié"
   ]
  },
  {
   "cell_type": "markdown",
   "metadata": {},
   "source": [
    "## Question 9"
   ]
  },
  {
   "cell_type": "markdown",
   "metadata": {},
   "source": [
    "Dans la mesure du possible, réalisez **votre propre bilan carbone** sur les équipements informatiques en faisant l'inventaire de tous vos appareils. Cela consiste à quantifier les émissions de gaz à effet de serre (GES) sur un an, issues de la phase d'usage et de la phase de production. Les informations de la partie B vous auront renseigné sur la production. Pour la phase d'usage, il vous faut convertir la quantité d'énergie utilisée en un équivalent CO2. \n",
    "\n",
    "Trouvez des informations sur ce que représente 1kWh en termes d'émissions GES, en France."
   ]
  },
  {
   "cell_type": "markdown",
   "metadata": {},
   "source": [
    "## Question 10"
   ]
  },
  {
   "cell_type": "markdown",
   "metadata": {},
   "source": [
    "Vous pourrez répondre à plusieurs questions abordées en cours:\n",
    "- quelle est la part du numérique dans votre bilan carbone annuel (en supposant que celui-ci soit d'environ 10T eqCO2) ?\n",
    "- quelle est la part de la production et de l'usage ?\n",
    "\n",
    "*Dans la mesure du possible, essayez d'avoir une idée sur la durée de vie de vos appareils pour pouvoir adapter la part de production sur une année.*"
   ]
  },
  {
   "cell_type": "markdown",
   "metadata": {},
   "source": [
    "# D. Quelques scenarios"
   ]
  },
  {
   "cell_type": "markdown",
   "metadata": {},
   "source": [
    "## Question 11"
   ]
  },
  {
   "cell_type": "markdown",
   "metadata": {},
   "source": [
    "Une entreprise localisée en France dispose de $n$ ordinateurs portables, $m$ ordinateurs fixes et $p$ super-calculateurs. Quel est son impact carbone en termes de matériel numérique ? Et l'impact par salarié ? Imaginer des stratégies réalistes pour qu'elle puisse diminuer ses émissions de gaz à effet de serre de 50%.  \n",
    "\n",
    "*Le site [Ecodiag](https://ecoinfo.cnrs.fr/2020/05/06/ecodiag/) du groupe ecoinfo du CNRS propose un service unifié pour évaluer la part des usages et de la fabrication du matériel informatique. Vous utiliserez ce service et en particulier le [calculateur](https://ecoinfo.cnrs.fr/ecodiag-calcul/) pour comparer avec vos évaluations.*\n"
   ]
  },
  {
   "cell_type": "markdown",
   "metadata": {},
   "source": [
    "## Question 12"
   ]
  },
  {
   "cell_type": "markdown",
   "metadata": {},
   "source": [
    "Calculez de manière très grossière l'impact du numérique dans un pays comme la France ou l'Allemagne, qui diffèrent notamment par leur mix énergétique très différent. Généralisez ensuite au monde entier et comparez avec les données de la littérature comme l'étude de Freitag et al, 2021 mentionnée en cours. Vous ferez (vraisemblablement) des **hypothèses simplificatrices à expliciter très clairement**."
   ]
  },
  {
   "cell_type": "markdown",
   "metadata": {},
   "source": [
    "# Annexe: Wattmètre Voltrcraft energy Logger 4000F\n",
    "\n",
    "Voici quelques instructions de base pour le bon fonctionnement du wattmètre:\n",
    "\n",
    "- Branchez le wattmètre sur une prise 220V.\n",
    "- Avant de commencer, assurez vous que les données du wattmetre sont effacées. Pour cela appuyez sur la touche MODE et la touche $\\blacktriangleright$ pendant au moins 5 secondes. Normalement si le wattmetre comporte une pile, l'heure doit être sauvegardée et il n'est pas nécessaire de reconfigurer le wattmetre. Si l'heure n'est pas à jour vous pouvez la modifier à l'aide des touches $\\blacktriangledown$ et $\\blacktriangle$.  \n",
    "Si la remise à zéro n'est pas faite, vous risquez d'avoir en mémoire des informations issues de précédentes mesures. \n",
    "- Branchez enfin votre machine sur la prise du wattmetre. Vous devez normalement voir s'afficher des mesures sur l'écran. Utilisez la touche MODE pour obtenir l'affichage de la puissance instantannée en Watts. Il s'agit de la puissance active, à distinguer de la puissance apparente (en V.A). Si vous voulez plus de détails sur la physique sous-jacente: https://fr.wikipedia.org/wiki/Puissance_en_r%C3%A9gime_alternatif\n",
    "\n",
    "\n",
    "Si vous voulez garder un souvenir de ce premier TP et que vous avez une carte SD:\n",
    "\n",
    "- Pour récupérez les mesures de puissance à partir de la réinitialisation, insérez une carte SD dans la zone prévue à cet effet et appuyez sur la touche $\\blacktriangleright$. L'écran affiche assez rapidement (quelques secondes) 99 % signifiant que les données sont sauvées.\n",
    "- Vous pouvez récupérez vos données qui se présentent sous la forme de deux fichiers .BIN. sur la carte SD. Le plus petit contient des informations sur la date et le plus gros les mesures, échantillonnées toutes les minutes.\n",
    "- Pour visualiser les résultats, à l'aide du code mac-power-meter disponible sur [https://gitlab.inria.fr/guenneba/mac-power-meter/-/tree/master](https://gitlab.inria.fr/guenneba/mac-power-meter/-/tree/master) vous pouvez utiliser la commande  \n",
    "`python make_plot.py -w fichier1.BIN fichier2.BIN`"
   ]
  },
  {
   "cell_type": "code",
   "execution_count": null,
   "metadata": {},
   "outputs": [],
   "source": []
  }
 ],
 "metadata": {
  "kernelspec": {
   "display_name": "Python 3",
   "language": "python",
   "name": "python3"
  },
  "language_info": {
   "codemirror_mode": {
    "name": "ipython",
    "version": 3
   },
   "file_extension": ".py",
   "mimetype": "text/x-python",
   "name": "python",
   "nbconvert_exporter": "python",
   "pygments_lexer": "ipython3",
   "version": "3.7.3"
  }
 },
 "nbformat": 4,
 "nbformat_minor": 4
}
