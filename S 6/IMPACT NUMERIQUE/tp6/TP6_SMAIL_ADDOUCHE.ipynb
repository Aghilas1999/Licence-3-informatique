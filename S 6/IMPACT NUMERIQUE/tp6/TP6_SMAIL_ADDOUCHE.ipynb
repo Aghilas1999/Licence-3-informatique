{
 "cells": [
  {
   "cell_type": "markdown",
   "metadata": {},
   "source": [
    "# TP6 - Page Rank"
   ]
  },
  {
   "cell_type": "markdown",
   "metadata": {},
   "source": [
    "Dans ce TP, nous allons étudier comment implémenter une version simple de l'algorithme Page Rank, proposé par les concepteurs du moteur de recherche Google pour évaluer l'importance des pages web.\n",
    "\n",
    "Nous vous rappelons que cet algorithme repose sur le calcul de la distribution stationnaire d'une chaîne de Markov irréductible et apériodique.\n",
    "\n",
    "Pour obtenir un algorithme efficace, nous verrons comment utiliser le fait que les graphes manipulés sont peu denses (sparse en anglais).\n",
    "\n",
    "Ce TP se divise en trois parties :  \n",
    "1. étudier le calcul de la distribution stationnaire dans une chaîne de Markov.\n",
    "2. implémenter une version de l'algorithme Page Rank pour des graphes dirigés, et l'évaluer sur des graphes aléatoires produits à l'aide des algorithmes vus au TP précédent (Erdos-Renyi, Barabasi-Albert).\n",
    "3. étudier une solution visant à modifier le score obtenu par Page Rank, à l'aide d'une ferme de liens."
   ]
  },
  {
   "cell_type": "markdown",
   "metadata": {},
   "source": [
    "## Distribution stationnaire d'une chaîne de Markov"
   ]
  },
  {
   "cell_type": "markdown",
   "metadata": {},
   "source": [
    "Pour cette partie, on suppose qu'on manipule une matrice carrée, représentée en Python comme une liste de listes, de dimension $n$. On suppose de plus que la matrice est stochastique, c'est-à-dire que pour chaque ligne, la somme des valeurs est égale à 1. \n",
    "\n",
    "De plus, on manipulera des vecteurs de même dimension que la matrice."
   ]
  },
  {
   "cell_type": "markdown",
   "metadata": {},
   "source": [
    "1. Ecrire une fonction qui réalise le produit d'un vecteur (ligne) $X$ avec une matrice $M$, c'est-à-dire le produit $X.M$. On rappelle que le résultat est un vecteur (ligne) $Y$ de même dimension que $X$, et dont la $j$-ème case\n",
    "contient la valeur $\\sum_{i=0}^{n-1} X_i * M_{i,j}$. "
   ]
  },
  {
   "cell_type": "code",
   "execution_count": 6,
   "metadata": {},
   "outputs": [],
   "source": [
    "def produit_vec_mat(X,M):\n",
    "    # x : vecteur ligne de dimension n\n",
    "    # M : matrice carrée stochastique de dimension n\n",
    "    # retourne un vecteur ligne de dimension n, correspondant à X.M\n",
    "    # <------------------------------------------------------------>\n",
    "    \n",
    "    i = 0 \n",
    "    result = []\n",
    "    Sum = 0.0\n",
    "    i = 0\n",
    "    for i in range(len(M)):\n",
    "        for x in range(len(X)):\n",
    "            Sum = Sum + (X[x] * M[x][i])\n",
    "        result.append(Sum)\n",
    "        i = i + 1\n",
    "        Sum = 0\n",
    "    return result"
   ]
  },
  {
   "cell_type": "markdown",
   "metadata": {},
   "source": [
    "Vous pouvez tester votre fonction avec l'exemple suivant, vous devez retrouver les valeurs données dans les transparents du cours dernier (slide 42)."
   ]
  },
  {
   "cell_type": "code",
   "execution_count": 7,
   "metadata": {},
   "outputs": [
    {
     "name": "stdout",
     "output_type": "stream",
     "text": [
      "[0.6, 0.19, 0.21]\n"
     ]
    }
   ],
   "source": [
    "M = [\n",
    "        [.6,.1,.3],\n",
    "        [.6,.4,0],\n",
    "        [.7,0,.3]\n",
    "]\n",
    "\n",
    "X = [.7,.3,0]\n",
    "print(produit_vec_mat(X,M))\n",
    "# Attendu : [.6, .19, .21]"
   ]
  },
  {
   "cell_type": "markdown",
   "metadata": {},
   "source": [
    "2. On suppose dans la suite que la chaîne de Markov représentée par $M$ satisfait les conditions d'application du théorème assurant l'existence d'une unique distribution stationnaire, c'est-à-dire que la chaîne est bien irréductible et apériodique (voir les slides pour des détails). Un algorithme possible pour calculer cette distribution, appelée méthode des puissances, consiste à calculer les termes de la suite $(X_i)_{i\\in \\mathbb{N}}$ suivante :\n",
    "\n",
    "$$\\left \\{ \\begin{array}{ll}\n",
    "X_0 &= [\\frac1n,\\frac1n,\\ldots,\\frac1n]\\\\\n",
    "X_{i+1} &= X_{i}.M\n",
    "\\end{array} \\right .$$\n",
    "\n",
    "Ecrire une fonction qui prend en argument la matrice $M$, un nombre de pas $N$, et un seuil de précision $\\epsilon$,\n",
    "et qui effectue le calcul de la suite précédente jusqu'à ce que deux termes successifs soient à distance au plus $\\epsilon$, ou, si cela n'arrive pas, jusqu'au $N$-ème terme de la suite. On précise que la distance entre les deux termes correspond ici à la norme 1, c'est-à-dire la somme des valeurs absolues des différences des composantes. Formellement, la distance entre deux vecteurs $X$ et $Y$ est égale à $d(X,Y) = \\sum_{i=0}^{n-1}|X_i-Y_i|$. Vous pouvez utiliser la fonction `abs` de Python qui calcule la valeur absolue d'un nombre réel."
   ]
  },
  {
   "cell_type": "code",
   "execution_count": 8,
   "metadata": {},
   "outputs": [],
   "source": [
    "def distance(X,Y):\n",
    "    d = sum([abs(X[i] - Y[i]) for i in range(len(X))])\n",
    "    return d\n",
    "def calcul_distrib_stat(M,N,eps):\n",
    "    # M : matrice carrée stochastique de dimension n\n",
    "    # On suppose en plus que la chaîne associée est irréductible et apériodique\n",
    "    # N : nombre de pas\n",
    "    # eps : précision (flottant)\n",
    "    X = []\n",
    "    for i in range(len(M)):\n",
    "        X.append(1/len(M))\n",
    "    for i in range(N):\n",
    "        Y = produit_vec_mat(X,M)\n",
    "        if distance(X,Y) < eps:\n",
    "            return Y\n",
    "        X = Y\n",
    "    return   X "
   ]
  },
  {
   "cell_type": "markdown",
   "metadata": {},
   "source": [
    "A nouveau, comparez le résultat obtenu par votre fonction avec ceux des transparents du cours (slide 44)."
   ]
  },
  {
   "cell_type": "code",
   "execution_count": 9,
   "metadata": {},
   "outputs": [
    {
     "name": "stdout",
     "output_type": "stream",
     "text": [
      "[0.6268634276999998, 0.10448836329999998, 0.26864820899999997]\n"
     ]
    }
   ],
   "source": [
    "stat = calcul_distrib_stat(M,10,10**(-5))\n",
    "print(stat)\n",
    "# Attendu : [.62,.1,.27]] (aux approximations près)"
   ]
  },
  {
   "cell_type": "markdown",
   "metadata": {},
   "source": [
    "3. Retour sur le produit matriciel. La complexité du produit matriciel implémenté est en $O(n^2)$, où $n$ indique la dimension de la matrice.\n",
    "Par conséquent, dans le cas où la matrice $M$ est peu dense, c'est-à-dire que beaucoup de cases sont égales à $0$, il\n",
    "est plus intéressant d'obtenir un algorithme linéaire dans le nombre de cases non vide, c'est-à-dire dans le nombre d'arêtes du graphe.\n",
    "Pour cela, on suppose à présent que la matrice $M$ est représentée comme un dictionnaire de dictionnaires. Plus précisément, on\n",
    "associe à chaque sommet un dictionnaire, qui donne, pour chaque sommet cible, le poids de la transition correspondante. Seules les transitions de poids non nul sont indiquées dans ce dictionnaire. On suppose ici que les sommets sont numérotés de 0 à n-1. Un exemple de cette représentation est donné ci-dessous, correspondant à la matrice précédente :"
   ]
  },
  {
   "cell_type": "code",
   "execution_count": 10,
   "metadata": {},
   "outputs": [
    {
     "name": "stdout",
     "output_type": "stream",
     "text": [
      "0 0 0.6\n",
      "0 1 0.1\n",
      "0 2 0.3\n",
      "1 0 0.6\n",
      "1 1 0.4\n",
      "2 0 0.7\n",
      "2 2 0.3\n"
     ]
    }
   ],
   "source": [
    "sparseM = {\n",
    "    0 : {0:.6, 1:.1, 2:.3},\n",
    "    1 : {0:.6, 1:.4},\n",
    "    2 : {0:.7, 2:.3}\n",
    "}\n",
    "M = [\n",
    "        [.6,.1,.3],\n",
    "        [.6,.4,0],\n",
    "        [.7,0,.3]\n",
    "]\n",
    "for source in sparseM:\n",
    "    for target in sparseM[source]:\n",
    "        print(source,target,sparseM[source][target])"
   ]
  },
  {
   "cell_type": "markdown",
   "metadata": {},
   "source": [
    "Ecrire un algorithme pour le calcul du produit matriciel $X.M$ utilisant cette représentation.\n",
    "Vous vérifierez votre résultat avec l'exemple précédent."
   ]
  },
  {
   "cell_type": "code",
   "execution_count": 11,
   "metadata": {},
   "outputs": [
    {
     "ename": "IndentationError",
     "evalue": "expected an indented block (<ipython-input-11-38df786127ad>, line 8)",
     "output_type": "error",
     "traceback": [
      "\u001b[0;36m  File \u001b[0;32m\"<ipython-input-11-38df786127ad>\"\u001b[0;36m, line \u001b[0;32m8\u001b[0m\n\u001b[0;31m    for target in M[source]:\u001b[0m\n\u001b[0m                            ^\u001b[0m\n\u001b[0;31mIndentationError\u001b[0m\u001b[0;31m:\u001b[0m expected an indented block\n"
     ]
    }
   ],
   "source": [
    "        \n",
    "def produit_vec_mat_sparse(X,M):\n",
    "    # x : vecteur ligne de dimension n\n",
    "    # M : dictionnaire de dictionnaire représentant la matrice stochastique de dimension n\n",
    "    # retourne un vecteur ligne de dimension n, correspondant à X.M\n",
    "    Y = [0] * len(X)\n",
    "    for source in M:\n",
    "        for target in M[source]:\n",
    "            Y[target] += X[source] * M[source][target]\n",
    "    return Y"
   ]
  },
  {
   "cell_type": "code",
   "execution_count": 12,
   "metadata": {},
   "outputs": [
    {
     "name": "stdout",
     "output_type": "stream",
     "text": [
      "[0.6, 0.19, 0.21]\n"
     ]
    },
    {
     "ename": "NameError",
     "evalue": "name 'produit_vec_mat_sparse' is not defined",
     "output_type": "error",
     "traceback": [
      "\u001b[0;31m---------------------------------------------------------------------------\u001b[0m",
      "\u001b[0;31mNameError\u001b[0m                                 Traceback (most recent call last)",
      "\u001b[0;32m<ipython-input-12-dbce821adbb4>\u001b[0m in \u001b[0;36m<module>\u001b[0;34m\u001b[0m\n\u001b[1;32m      1\u001b[0m \u001b[0mprint\u001b[0m\u001b[0;34m(\u001b[0m\u001b[0mproduit_vec_mat\u001b[0m\u001b[0;34m(\u001b[0m\u001b[0mX\u001b[0m\u001b[0;34m,\u001b[0m\u001b[0mM\u001b[0m\u001b[0;34m)\u001b[0m\u001b[0;34m)\u001b[0m\u001b[0;34m\u001b[0m\u001b[0;34m\u001b[0m\u001b[0m\n\u001b[0;32m----> 2\u001b[0;31m \u001b[0mprint\u001b[0m\u001b[0;34m(\u001b[0m\u001b[0mproduit_vec_mat_sparse\u001b[0m\u001b[0;34m(\u001b[0m\u001b[0mX\u001b[0m\u001b[0;34m,\u001b[0m\u001b[0msparseM\u001b[0m\u001b[0;34m)\u001b[0m\u001b[0;34m)\u001b[0m\u001b[0;34m\u001b[0m\u001b[0;34m\u001b[0m\u001b[0m\n\u001b[0m\u001b[1;32m      3\u001b[0m \u001b[0;31m# Attendu : [.6, .19, .21]\u001b[0m\u001b[0;34m\u001b[0m\u001b[0;34m\u001b[0m\u001b[0;34m\u001b[0m\u001b[0m\n",
      "\u001b[0;31mNameError\u001b[0m: name 'produit_vec_mat_sparse' is not defined"
     ]
    }
   ],
   "source": [
    "print(produit_vec_mat(X,M))\n",
    "print(produit_vec_mat_sparse(X,sparseM))\n",
    "# Attendu : [.6, .19, .21]"
   ]
  },
  {
   "cell_type": "markdown",
   "metadata": {},
   "source": [
    "## Implémentation de Page Rank"
   ]
  },
  {
   "cell_type": "markdown",
   "metadata": {},
   "source": [
    "Dans cette partie, on va travailler avec des graphes produits à l'aide de la librairie 'networkx'.\n",
    "\n",
    "On rappelle que l'algorithme de Page Rank peut être résumé de la façon suivante :\n",
    "1. On construit à partir du graphe la matrice stochastique $M$ dans laquelle les poids sont obtenus en mettant une probabilité uniforme sur les transitions sortantes.\n",
    "2. On modifie cette matrice en tenant compte des puits (saut uniforme sur tous les sommets du graphe), on obtient ainsi la matrice $M_2$. On ajoute ensuite une petite probabilité de saut arbitraire, afin d'avoir une chaîne de Markov irréductible et apériodique. On obtient ainsi la matrice $P$, appelée matrice Page Rank.\n",
    "3. On calcule la distribution stationnaire associée à $P$."
   ]
  },
  {
   "cell_type": "markdown",
   "metadata": {},
   "source": [
    "1. Pour la première étape, nous allons utiliser une fonction existante de `networkx`, intitulée `stochastic_graph`.\n",
    "\n",
    "Tester cette fonction à l'aide du code suivant. Quel est le format utilisé pour représenter la matrice stochastique ? Comment sont traités les noeuds puits ?"
   ]
  },
  {
   "cell_type": "code",
   "execution_count": 13,
   "metadata": {},
   "outputs": [
    {
     "ename": "ModuleNotFoundError",
     "evalue": "No module named 'networkx'",
     "output_type": "error",
     "traceback": [
      "\u001b[0;31m---------------------------------------------------------------------------\u001b[0m",
      "\u001b[0;31mModuleNotFoundError\u001b[0m                       Traceback (most recent call last)",
      "\u001b[0;32m<ipython-input-13-a05ecdff6f67>\u001b[0m in \u001b[0;36m<module>\u001b[0;34m\u001b[0m\n\u001b[0;32m----> 1\u001b[0;31m \u001b[0;32mimport\u001b[0m \u001b[0mnetworkx\u001b[0m \u001b[0;32mas\u001b[0m \u001b[0mnx\u001b[0m\u001b[0;34m\u001b[0m\u001b[0;34m\u001b[0m\u001b[0m\n\u001b[0m\u001b[1;32m      2\u001b[0m \u001b[0;32mimport\u001b[0m \u001b[0mmatplotlib\u001b[0m\u001b[0;34m.\u001b[0m\u001b[0mpyplot\u001b[0m \u001b[0;32mas\u001b[0m \u001b[0mplt\u001b[0m\u001b[0;34m\u001b[0m\u001b[0;34m\u001b[0m\u001b[0m\n\u001b[1;32m      3\u001b[0m \u001b[0;34m\u001b[0m\u001b[0m\n\u001b[1;32m      4\u001b[0m \u001b[0;31m# Def du graphe\u001b[0m\u001b[0;34m\u001b[0m\u001b[0;34m\u001b[0m\u001b[0;34m\u001b[0m\u001b[0m\n\u001b[1;32m      5\u001b[0m \u001b[0mG\u001b[0m \u001b[0;34m=\u001b[0m \u001b[0mnx\u001b[0m\u001b[0;34m.\u001b[0m\u001b[0mDiGraph\u001b[0m\u001b[0;34m(\u001b[0m\u001b[0;34m)\u001b[0m\u001b[0;34m\u001b[0m\u001b[0;34m\u001b[0m\u001b[0m\n",
      "\u001b[0;31mModuleNotFoundError\u001b[0m: No module named 'networkx'"
     ]
    }
   ],
   "source": [
    "import networkx as nx\n",
    "import matplotlib.pyplot as plt\n",
    "\n",
    "# Def du graphe\n",
    "G = nx.DiGraph()\n",
    "G.add_edge(0,1)\n",
    "G.add_edge(1,0)\n",
    "G.add_edge(0,2)\n",
    "G.add_edge(1,3)\n",
    "G.add_edge(3,0)\n",
    "\n",
    "# Matrice stochastique associée\n",
    "M = nx.stochastic_graph(G)\n",
    "for x in M:\n",
    "    print(x,\":\",M[x])\n",
    "\n",
    "# Affichage du graphe\n",
    "plt.figure(figsize=(15,9))\n",
    "nx.draw(G,with_labels = True)\n",
    "plt.show()"
   ]
  },
  {
   "cell_type": "markdown",
   "metadata": {},
   "source": [
    "2. Pour identifier les noeuds puits, nous allons utiliser la fonction `out_degreee()` de la librairie `networkx`.\n",
    "Regardez la documentation pour voir comment s'en servir."
   ]
  },
  {
   "cell_type": "markdown",
   "metadata": {},
   "source": [
    "3. Pour la deuxième étape, la matrice $M$ obtenue à la première étape est modifiée au niveau des noeuds puits\n",
    "en ajoutant la possibilité d'aller vers tous les sommets du graphe (avec proba uniforme), donnant ainsi la matrice $M_2$. Ensuite, la matrice Page Rank $P$ est définie comme suit :\n",
    "$$\n",
    "P = \\alpha.M_2 + (1-\\alpha).J\n",
    "$$\n",
    "où $\\alpha$ est un coefficient choisi entre 0.8 et 0.85, et $J$ est la matrice associant $\\frac1n$ à toutes les cases.\n",
    "\n",
    "Dans la suite, étant donné un vecteur (ligne) $X$, on souhaite calculer efficacement le produit $Y = X.P$. Pour cela,  on note $A$\n",
    "la somme des valeurs de $X$ correspondant à des noeuds puits, c'est-à-dire :\n",
    "$$\n",
    "A = \\sum\\{X_i\\ \\mid \\ i \\text{ est un puits} \\}\n",
    "$$\n",
    "\n",
    "Alors on peut montrer que, pour tout indice $j$, on a : (voir plus bas pour une justification)\n",
    "\n",
    "$$\n",
    "Y_j = \\alpha.(X.M)_j + \\frac{\\alpha}{n}.A + \\frac{1-\\alpha}{n}\n",
    "$$\n",
    "\n",
    "En d'autres termes, il suffit de faire le calcul du produit matriciel (sparse) de $X$ par $M$ (cf Question 3 de la partie 1),\n",
    "puis d'ajouter à tous les coefficients la constante $\\frac{\\alpha}{n}.A + \\frac{1-\\alpha}{n}$. Attention, on a bien utilisé ici la matrice $M$, et pas la matrice $M_2$.\n",
    "\n",
    "A partir de ces observations, écrire une fonction qui prend en entrée un graphe, la valeur du coefficient alpha, un nombre de pas, et une précision, et qui retourne\n",
    "les valeurs de Page Rank obtenues selon cette méthode :"
   ]
  },
  {
   "cell_type": "code",
   "execution_count": 22,
   "metadata": {},
   "outputs": [],
   "source": [
    "def PageRank(G,alpha,N,eps):\n",
    "        # G : DiGraph Networkx\n",
    "        # alpha : valeur du coefficient de la matrice de Page Rank (choisi dans [0.8,0.85])\n",
    "        # N : nombre de pas max du calcul itératif (méthode des puissances)\n",
    "        # eps : précision (flottant)\n",
    "        M = nx.stochastic_graph(G)\n",
    "        n= M.number_of_nodes()\n",
    "        X = [1/n]*n\n",
    "        nodes = list(G.nodes)\n",
    "        puits = []\n",
    "        for node in nodes:\n",
    "            if(G.out_degree(node) == 0):\n",
    "                puits.append(node)\n",
    "        for i in range(N):\n",
    "            A = sum([X[puit] for puit in puits])\n",
    "            Y = produit_vec_mat_sparse(X,M)\n",
    "            for j in range(n):\n",
    "                Y[j] += (alpha * Y[j]) + ((alpha /n) * A) + ((1 - alpha) / n)\n",
    "           \n",
    "            if(dist(X,Y)) < eps:\n",
    "                return Y\n",
    "            X = Y\n",
    "        return Y"
   ]
  },
  {
   "cell_type": "markdown",
   "metadata": {},
   "source": [
    "3. Appliquer votre fonction à des graphes générés par Erdos-Renyi, Barabasi-Albert, Watts-Strogatz. Vous prendrez des graphes avec environ 200 sommets, et un degré moyen de l'ordre de 20.\n",
    "Affichez-les résultats sous la forme d'histogrames. Ces résultats sont-ils cohérents avec l'étude faite de ces graphes au TP précédent ?"
   ]
  },
  {
   "cell_type": "markdown",
   "metadata": {},
   "source": [
    "4. Si vous êtes dans les temps, comparez votre implémentation et celle de networkx (`nx.pagerank`)."
   ]
  },
  {
   "cell_type": "markdown",
   "metadata": {},
   "source": [
    "## Fermes de liens"
   ]
  },
  {
   "cell_type": "markdown",
   "metadata": {},
   "source": [
    "On rappelle ici le principe de la ferme de liens, présenté en cours (voir slides 54 et suivants). L'objectif est d'améliorer le score Page Rank obtenu par une page web. Pour cela, des pages inutiles, que l'on contrôle, sont ajoutées, et pointées par et vers la page dont on veut améliorer le score."
   ]
  },
  {
   "cell_type": "markdown",
   "metadata": {},
   "source": [
    "1. Nous allons travailler avec un graphe obtenue par l'algorithme de Barabasi-Albert, possédant 200 noeuds, et un degré moyen de 20. Ecrire un programme permettant de créer un tel graphe. Afficher l'histogramme des scores Page Rank associé."
   ]
  },
  {
   "cell_type": "markdown",
   "metadata": {},
   "source": [
    "2. Ecrire une fonction qui prend en argument un graphe, et retourne un tuple de deux éléments donnant le sommet dont le score Page Rank est minimal, avec son score Page Rank."
   ]
  },
  {
   "cell_type": "code",
   "execution_count": 14,
   "metadata": {},
   "outputs": [],
   "source": [
    "def compute_min_PR(G):\n",
    "    # G : DiGraph\n",
    "\n",
    "    return"
   ]
  },
  {
   "cell_type": "markdown",
   "metadata": {},
   "source": [
    "3. Ecrire une fonction qui prend en entrée un graphe $G$, l'indice $i$ du sommet dont on veut modifier le score, et un entier $K$ indiquant le nombre de pages web dans la ferme de liens, et qui modifie le graphe $G$ de sorte à créer la ferme de liens comme indiqué plus haut."
   ]
  },
  {
   "cell_type": "code",
   "execution_count": 15,
   "metadata": {},
   "outputs": [],
   "source": [
    "def construire_ferme(G,i,k):\n",
    "    # G : graphe orienté\n",
    "    # i : un sommet de G\n",
    "    # K : un entier, nombre de pages de la ferme à ajouter à G, reliées à i\n",
    "            \n",
    "    return"
   ]
  },
  {
   "cell_type": "markdown",
   "metadata": {},
   "source": [
    "4. Nous allons étudier l'effet de l'ajout de la ferme de liens de façon empirique. Pour cela, nous allons suivre les étapes suivantes :\n",
    "- construire un graphe de Barabasi-Albert\n",
    "- identifier le sommet $i$ de score minimal\n",
    "- ajouter la ferme de liens de taille $K$\n",
    "- mesurer le nouveau score Page Rank du sommet $i$\n",
    "\n",
    "\n",
    "Ecrire un programme qui réalise les étapes précédentes, pour un même graphe, en faisant varier $K$, de sorte à pouvoir tracer une courbe montrant l'évolution du nouveau score de $i$ en fonction de $K$."
   ]
  },
  {
   "cell_type": "markdown",
   "metadata": {},
   "source": [
    "## Annexes"
   ]
  },
  {
   "cell_type": "markdown",
   "metadata": {},
   "source": [
    "Détail des calculs du produit matriciel pour la matrice Page Rank.\n",
    "\n",
    "La matrice Page Rank est définie comme suit :\n",
    "$$\n",
    "P = \\alpha.M + (1-\\alpha).J\n",
    "$$\n",
    "où $M$ est la matrice stochasique obtenue précédemment, $\\alpha$ est un coefficient choisi entre 0.8 et 0.85, et $J$ est la matrice associant $\\frac1n$ à toutes les cases.\n",
    "\n",
    "A l'aide de cette formule, et étant donné un vecteur (ligne) $X$, on peut réécrire le produit $Y = X.P$. Le coefficient $j$ peut s'écrire comme suit :\n",
    "$$\n",
    "\\begin{array}{lll}\n",
    "Y_j & =& \\sum_{i=0}^{n-1} X_i * P_{i,j}\\\\\n",
    "    & =& \\sum_{i=0}^{n-1} X_i * (\\alpha.M_{i,j} + (1-\\alpha).J_{i,j})\\\\\n",
    "    & =& \\alpha \\sum_{i=0}^{n-1} (X_i * M_{i,j}) + (1-\\alpha).\\sum_{i=0}^{n-1} (X_i. J_{i,j})\\\\\n",
    "    & =& \\alpha \\sum_{i \\mid \\text{non puits}} (X_i * M_{i,j}) + \\alpha \\sum_{i \\mid \\text{puits}} (X_i * M_{i,j}) + \\frac{1-\\alpha}{n}.\\sum_{i=0}^{n-1} X_i\\\\\n",
    "    & =& \\alpha (X.M')_j + \\alpha \\sum_{i \\mid \\text{puits}} (X_i * \\frac1n ) + \\frac{1-\\alpha}{n}\\\\\n",
    "    & =& \\alpha (X.M')_j + \\frac{\\alpha}{n} \\sum_{i \\mid \\text{puits}} (X_i) + \\frac{1-\\alpha}{n}\\\\\n",
    "    & =& \\alpha (X.M')_j + \\frac{\\alpha}{n} A + \\frac{1-\\alpha}{n}\n",
    "\\end{array}\n",
    "$$"
   ]
  }
 ],
 "metadata": {
  "kernelspec": {
   "display_name": "Python 3",
   "language": "python",
   "name": "python3"
  },
  "language_info": {
   "codemirror_mode": {
    "name": "ipython",
    "version": 3
   },
   "file_extension": ".py",
   "mimetype": "text/x-python",
   "name": "python",
   "nbconvert_exporter": "python",
   "pygments_lexer": "ipython3",
   "version": "3.7.3"
  }
 },
 "nbformat": 4,
 "nbformat_minor": 4
}
